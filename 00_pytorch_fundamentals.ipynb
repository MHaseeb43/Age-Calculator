{
  "nbformat": 4,
  "nbformat_minor": 0,
  "metadata": {
    "colab": {
      "provenance": [],
      "authorship_tag": "ABX9TyNplPpebPHntFbpDT0YB9NX",
      "include_colab_link": true
    },
    "kernelspec": {
      "name": "python3",
      "display_name": "Python 3"
    },
    "language_info": {
      "name": "python"
    }
  },
  "cells": [
    {
      "cell_type": "markdown",
      "metadata": {
        "id": "view-in-github",
        "colab_type": "text"
      },
      "source": [
        "<a href=\"https://colab.research.google.com/github/MHaseeb43/Age-Calculator/blob/master/00_pytorch_fundamentals.ipynb\" target=\"_parent\"><img src=\"https://colab.research.google.com/assets/colab-badge.svg\" alt=\"Open In Colab\"/></a>"
      ]
    },
    {
      "cell_type": "code",
      "execution_count": 129,
      "metadata": {
        "colab": {
          "base_uri": "https://localhost:8080/"
        },
        "id": "eSaaIfru99zC",
        "outputId": "56140f39-1665-4722-9f79-8cb3c50f95da"
      },
      "outputs": [
        {
          "output_type": "stream",
          "name": "stdout",
          "text": [
            "2.8.0+cu126\n"
          ]
        }
      ],
      "source": [
        "import torch\n",
        "import pandas as pd\n",
        "import numpy as np\n",
        "import matplotlib.pyplot as plt\n",
        "print(torch.__version__)"
      ]
    },
    {
      "cell_type": "markdown",
      "source": [
        "### Introduction to Tensor\n",
        "\n",
        "## Creating Tensor"
      ],
      "metadata": {
        "id": "MyNQ4R9NAb6G"
      }
    },
    {
      "cell_type": "code",
      "source": [
        "# Scalar\n",
        "\n",
        "scalar = torch.tensor(7)\n",
        "scalar"
      ],
      "metadata": {
        "colab": {
          "base_uri": "https://localhost:8080/"
        },
        "id": "H2myztiKAa1A",
        "outputId": "8515816a-9a51-4cfb-b6cb-6a68ddaffe7a"
      },
      "execution_count": 130,
      "outputs": [
        {
          "output_type": "execute_result",
          "data": {
            "text/plain": [
              "tensor(7)"
            ]
          },
          "metadata": {},
          "execution_count": 130
        }
      ]
    },
    {
      "cell_type": "code",
      "source": [
        "scalar.ndim"
      ],
      "metadata": {
        "colab": {
          "base_uri": "https://localhost:8080/"
        },
        "id": "FS6DHWDnAvHA",
        "outputId": "fef283fb-f4a6-4799-c8a5-66b4b6e4c44f"
      },
      "execution_count": 131,
      "outputs": [
        {
          "output_type": "execute_result",
          "data": {
            "text/plain": [
              "0"
            ]
          },
          "metadata": {},
          "execution_count": 131
        }
      ]
    },
    {
      "cell_type": "code",
      "source": [
        "scalar.item()"
      ],
      "metadata": {
        "colab": {
          "base_uri": "https://localhost:8080/"
        },
        "id": "MKu4U9kNBQ29",
        "outputId": "9f6b8b6f-657f-4040-f656-647ee1e71c4c"
      },
      "execution_count": 132,
      "outputs": [
        {
          "output_type": "execute_result",
          "data": {
            "text/plain": [
              "7"
            ]
          },
          "metadata": {},
          "execution_count": 132
        }
      ]
    },
    {
      "cell_type": "code",
      "source": [
        "# Vector\n",
        "\n",
        "Vector = torch.tensor([1,2])\n",
        "Vector\n",
        "Vector.ndim"
      ],
      "metadata": {
        "colab": {
          "base_uri": "https://localhost:8080/"
        },
        "id": "nD9WcH00BZkQ",
        "outputId": "064bfe01-02c8-4883-d174-64758269b74a"
      },
      "execution_count": 133,
      "outputs": [
        {
          "output_type": "execute_result",
          "data": {
            "text/plain": [
              "1"
            ]
          },
          "metadata": {},
          "execution_count": 133
        }
      ]
    },
    {
      "cell_type": "code",
      "source": [
        "Vector.shape"
      ],
      "metadata": {
        "colab": {
          "base_uri": "https://localhost:8080/"
        },
        "id": "c1qVBdZsBgAt",
        "outputId": "db7b051b-e6f0-40c4-c2c0-373d10e691e2"
      },
      "execution_count": 134,
      "outputs": [
        {
          "output_type": "execute_result",
          "data": {
            "text/plain": [
              "torch.Size([2])"
            ]
          },
          "metadata": {},
          "execution_count": 134
        }
      ]
    },
    {
      "cell_type": "code",
      "source": [
        "# MATRICS\n",
        "\n",
        "Matrics = torch.tensor([[1,2],[3,4]])\n",
        "Matrics[1]\n",
        "Matrics.ndim\n",
        "Matrics.shape"
      ],
      "metadata": {
        "colab": {
          "base_uri": "https://localhost:8080/"
        },
        "id": "peu3vi6DByuL",
        "outputId": "96628e0e-4f2a-4f4a-fd22-2aaa4c631f3f"
      },
      "execution_count": 135,
      "outputs": [
        {
          "output_type": "execute_result",
          "data": {
            "text/plain": [
              "torch.Size([2, 2])"
            ]
          },
          "metadata": {},
          "execution_count": 135
        }
      ]
    },
    {
      "cell_type": "code",
      "source": [
        "# TENSOR\n",
        "\n",
        "Tensor = torch.tensor([[[1,2,3],\n",
        "                        [4,5,6],\n",
        "                        [7,8,9]]])\n",
        "Tensor2 = torch.tensor([[[1,3],[2,4]]])\n",
        "\n",
        "Tensor2.ndim\n",
        "Tensor2.shape"
      ],
      "metadata": {
        "colab": {
          "base_uri": "https://localhost:8080/"
        },
        "id": "yUOHc55kCGLl",
        "outputId": "09bc5ff7-ea0a-4945-f436-63cd8746edb6"
      },
      "execution_count": 136,
      "outputs": [
        {
          "output_type": "execute_result",
          "data": {
            "text/plain": [
              "torch.Size([1, 2, 2])"
            ]
          },
          "metadata": {},
          "execution_count": 136
        }
      ]
    },
    {
      "cell_type": "markdown",
      "source": [],
      "metadata": {
        "id": "fB_CQ7zBEw_T"
      }
    },
    {
      "cell_type": "markdown",
      "source": [
        "### Random Tensors"
      ],
      "metadata": {
        "id": "Qb2EFDjNEzFd"
      }
    },
    {
      "cell_type": "code",
      "source": [
        "# Create a random tensor of size\n",
        "Random = torch.rand(3,4)\n",
        "Random\n",
        "Random.ndim"
      ],
      "metadata": {
        "colab": {
          "base_uri": "https://localhost:8080/"
        },
        "id": "WA596dH6C6a2",
        "outputId": "435eb48a-c953-433b-f895-6be957d788c0"
      },
      "execution_count": 137,
      "outputs": [
        {
          "output_type": "execute_result",
          "data": {
            "text/plain": [
              "2"
            ]
          },
          "metadata": {},
          "execution_count": 137
        }
      ]
    },
    {
      "cell_type": "code",
      "source": [
        "# Creating random tensor with similar shape to an image tensor\n",
        "random_image_size_tensor = torch.rand(224,334,3) # Height, Width, Colour channel\n",
        "random_image_size_tensor.shape, random_image_size_tensor.ndim"
      ],
      "metadata": {
        "colab": {
          "base_uri": "https://localhost:8080/"
        },
        "id": "MRlSRHlhFXWt",
        "outputId": "8d1791d2-ef33-47b1-bd1a-024f9c60d485"
      },
      "execution_count": 138,
      "outputs": [
        {
          "output_type": "execute_result",
          "data": {
            "text/plain": [
              "(torch.Size([224, 334, 3]), 3)"
            ]
          },
          "metadata": {},
          "execution_count": 138
        }
      ]
    },
    {
      "cell_type": "markdown",
      "source": [
        "### Zeros and Ones"
      ],
      "metadata": {
        "id": "ewwXPcaZHTi-"
      }
    },
    {
      "cell_type": "code",
      "source": [
        "Zeros = torch.zeros(3,4)\n",
        "Zeros"
      ],
      "metadata": {
        "colab": {
          "base_uri": "https://localhost:8080/"
        },
        "id": "DLE772VrHXVu",
        "outputId": "33db0c05-0a11-4b11-d64c-3091d898b363"
      },
      "execution_count": 139,
      "outputs": [
        {
          "output_type": "execute_result",
          "data": {
            "text/plain": [
              "tensor([[0., 0., 0., 0.],\n",
              "        [0., 0., 0., 0.],\n",
              "        [0., 0., 0., 0.]])"
            ]
          },
          "metadata": {},
          "execution_count": 139
        }
      ]
    },
    {
      "cell_type": "code",
      "source": [
        "Ones = torch.ones(2,4)\n",
        "Ones"
      ],
      "metadata": {
        "colab": {
          "base_uri": "https://localhost:8080/"
        },
        "id": "enhESIF0HghJ",
        "outputId": "c1a5dd9b-83cd-4344-996b-1926fe7674d7"
      },
      "execution_count": 140,
      "outputs": [
        {
          "output_type": "execute_result",
          "data": {
            "text/plain": [
              "tensor([[1., 1., 1., 1.],\n",
              "        [1., 1., 1., 1.]])"
            ]
          },
          "metadata": {},
          "execution_count": 140
        }
      ]
    },
    {
      "cell_type": "markdown",
      "source": [
        "### Creating a raange of tensors and tensors-like."
      ],
      "metadata": {
        "id": "YsJwTl8WIN3A"
      }
    },
    {
      "cell_type": "code",
      "source": [
        "# Use torch.range(), get deprecated message, use torch.arange()\n",
        "range = torch.range(start=0, end=10,step=1)\n",
        "range"
      ],
      "metadata": {
        "colab": {
          "base_uri": "https://localhost:8080/"
        },
        "id": "oCGBSSGMIYi6",
        "outputId": "98c509d9-7519-4894-838e-54db9989fd6d"
      },
      "execution_count": 141,
      "outputs": [
        {
          "output_type": "stream",
          "name": "stderr",
          "text": [
            "/tmp/ipython-input-3764767912.py:2: UserWarning: torch.range is deprecated and will be removed in a future release because its behavior is inconsistent with Python's range builtin. Instead, use torch.arange, which produces values in [start, end).\n",
            "  range = torch.range(start=0, end=10,step=1)\n"
          ]
        },
        {
          "output_type": "execute_result",
          "data": {
            "text/plain": [
              "tensor([ 0.,  1.,  2.,  3.,  4.,  5.,  6.,  7.,  8.,  9., 10.])"
            ]
          },
          "metadata": {},
          "execution_count": 141
        }
      ]
    },
    {
      "cell_type": "code",
      "source": [
        "# Creating tensors like\n",
        "\n",
        "ten_ones = torch.ones_like(input=range)\n",
        "ten_ones"
      ],
      "metadata": {
        "colab": {
          "base_uri": "https://localhost:8080/"
        },
        "id": "3jkwzpw6IaAo",
        "outputId": "7d5be965-eb3a-4975-ee2b-7b661eebc568"
      },
      "execution_count": 142,
      "outputs": [
        {
          "output_type": "execute_result",
          "data": {
            "text/plain": [
              "tensor([1., 1., 1., 1., 1., 1., 1., 1., 1., 1., 1.])"
            ]
          },
          "metadata": {},
          "execution_count": 142
        }
      ]
    },
    {
      "cell_type": "markdown",
      "source": [
        "### Tensors DataType\n",
        "####Note: Tensor dataType is one of the 3 big errors you'll run into with pyTorch & Deep Learning.\n",
        "1- Tensors not right datatype\n",
        "2- Tensors not right shape\n",
        "3- Tensors not on the right device\n"
      ],
      "metadata": {
        "id": "7AX7MmAqJ9uY"
      }
    },
    {
      "cell_type": "code",
      "source": [
        "# Float 32 tensor\n",
        "float_32_tensor = torch.tensor([1.0,2.0,3.0],\n",
        "                               dtype=None, # What datetype is the tensor (e.g. float32 or float16)\n",
        "                               device=None, # What device is your tensor on CPU or GPA\n",
        "                               requires_grad=False #Whether or not to track gradients with this tensors operations\n",
        "                               )\n",
        "float_32_tensor"
      ],
      "metadata": {
        "colab": {
          "base_uri": "https://localhost:8080/"
        },
        "id": "ZhYctaOTJ_p1",
        "outputId": "93d5f88c-ffa9-45ed-912f-8259af81f470"
      },
      "execution_count": 143,
      "outputs": [
        {
          "output_type": "execute_result",
          "data": {
            "text/plain": [
              "tensor([1., 2., 3.])"
            ]
          },
          "metadata": {},
          "execution_count": 143
        }
      ]
    },
    {
      "cell_type": "code",
      "source": [
        " float_16_tensor = float_32_tensor.type(torch.half)\n",
        " float_16_tensor"
      ],
      "metadata": {
        "colab": {
          "base_uri": "https://localhost:8080/"
        },
        "id": "GckLFrF_KGWK",
        "outputId": "d04c827f-d13e-4a5d-c80d-be10e54bd490"
      },
      "execution_count": 144,
      "outputs": [
        {
          "output_type": "execute_result",
          "data": {
            "text/plain": [
              "tensor([1., 2., 3.], dtype=torch.float16)"
            ]
          },
          "metadata": {},
          "execution_count": 144
        }
      ]
    },
    {
      "cell_type": "code",
      "source": [
        "float_16_tensor * float_32_tensor"
      ],
      "metadata": {
        "colab": {
          "base_uri": "https://localhost:8080/"
        },
        "id": "jMFtTrkysTse",
        "outputId": "7a9f9069-6430-455f-9df4-cf0a9012205e"
      },
      "execution_count": 145,
      "outputs": [
        {
          "output_type": "execute_result",
          "data": {
            "text/plain": [
              "tensor([1., 4., 9.])"
            ]
          },
          "metadata": {},
          "execution_count": 145
        }
      ]
    },
    {
      "cell_type": "markdown",
      "source": [
        "## Tensor Attributes\n",
        "\n",
        "*   1- Tensors not right datatype  - to get datatype from tensor can use  tensor.dtype\n",
        "*   2- Tensors not right shape. - to get the shape from tensor, can use tensor.shape\n",
        "*   3- Tensors not on the right device - to get the device from a tensor, can use tensor.device\n",
        "\n"
      ],
      "metadata": {
        "id": "3Iw3nO5bun-F"
      }
    },
    {
      "cell_type": "code",
      "source": [
        "# Create a Random Tensor\n",
        "\n",
        "Rand = torch.rand((3,2), dtype=torch.float16, device=None)\n",
        "Rand"
      ],
      "metadata": {
        "colab": {
          "base_uri": "https://localhost:8080/"
        },
        "id": "fPEOAMRIs_ma",
        "outputId": "173d5179-4423-41e8-b4da-b9f465c79f74"
      },
      "execution_count": 146,
      "outputs": [
        {
          "output_type": "execute_result",
          "data": {
            "text/plain": [
              "tensor([[0.3740, 0.4424],\n",
              "        [0.4507, 0.0850],\n",
              "        [0.2070, 0.0435]], dtype=torch.float16)"
            ]
          },
          "metadata": {},
          "execution_count": 146
        }
      ]
    },
    {
      "cell_type": "code",
      "source": [
        "# Find out detail about some tensor\n",
        "\n",
        "print(f\"Datatype of tensor: {Rand.dtype}\")\n",
        "print(f\"Shape of tensor: {Rand.shape}\")\n",
        "print(f\"Device of tensor: {Rand.device}\")"
      ],
      "metadata": {
        "colab": {
          "base_uri": "https://localhost:8080/"
        },
        "id": "S5zw_RA6vrz7",
        "outputId": "c138fa82-6402-442b-c6b2-ad7df8fe6f6b"
      },
      "execution_count": 147,
      "outputs": [
        {
          "output_type": "stream",
          "name": "stdout",
          "text": [
            "Datatype of tensor: torch.float16\n",
            "Shape of tensor: torch.Size([3, 2])\n",
            "Device of tensor: cpu\n"
          ]
        }
      ]
    },
    {
      "cell_type": "markdown",
      "source": [
        "### Manipulating Tensors (tensor operations)\n",
        "Tensor operations included\n",
        "\n",
        "*   Addition\n",
        "*   Subtraction\n",
        "*   Multiplication (Element Wise)\n",
        "*   Division\n",
        "*   Matrix Multiplication\n",
        "\n"
      ],
      "metadata": {
        "id": "n2B69gAMxiXu"
      }
    },
    {
      "cell_type": "code",
      "source": [
        "### Manipulating Tensors (tensor operations)\n",
        "\n",
        "tensor = torch.tensor([1,2,3])\n",
        "tensor + 10\n",
        "tensor - 12\n",
        "tensor * 8"
      ],
      "metadata": {
        "colab": {
          "base_uri": "https://localhost:8080/"
        },
        "id": "6pqewuBGwOaI",
        "outputId": "0e72eb54-d6e6-4e38-98a1-34a7acbf0b60"
      },
      "execution_count": 148,
      "outputs": [
        {
          "output_type": "execute_result",
          "data": {
            "text/plain": [
              "tensor([ 8, 16, 24])"
            ]
          },
          "metadata": {},
          "execution_count": 148
        }
      ]
    },
    {
      "cell_type": "markdown",
      "source": [
        "### Matrix Multplication\n",
        "\n",
        "Two main ways of performing multiplication in neural network and deep learning.   \n",
        "\n",
        "*   Element wise Multiplication\n",
        "*   Matrix Multiplication\n",
        "\n",
        "More Information on multiplying matrices.\n",
        "\n",
        "There are two main rules that performing matrix multiplication needs to satisfy:\n",
        "\n",
        "1- The **inner dimension** must match:\n",
        "\n",
        "*   (3,2) * (3,2) Won't work\n",
        "*   (2,3) * (3,2) Will work\n",
        "*   (3,2) * (2,3) Will work\n",
        "\n",
        "2- The resulting matrix has the shape of the outer dimensions:\n",
        "\n",
        "*   (3,2) * (3,2) -> (2,2)\n",
        "*   (3,2) * (2,3) -> (3,3)\n",
        "\n",
        "\n"
      ],
      "metadata": {
        "id": "kBuRuJ3h7Yhk"
      }
    },
    {
      "cell_type": "code",
      "source": [
        "# Element Wise Multiplication.\n",
        "print(tensor, \"*\", tensor)"
      ],
      "metadata": {
        "colab": {
          "base_uri": "https://localhost:8080/"
        },
        "id": "V5HyxJld6ih8",
        "outputId": "fe7faf6c-790c-467d-c494-73ecad1cf803"
      },
      "execution_count": 149,
      "outputs": [
        {
          "output_type": "stream",
          "name": "stdout",
          "text": [
            "tensor([1, 2, 3]) * tensor([1, 2, 3])\n"
          ]
        }
      ]
    },
    {
      "cell_type": "code",
      "source": [
        "# Matrix Multiplication\n",
        "Matrics = torch.matmul(tensor, tensor)\n",
        "Matrics"
      ],
      "metadata": {
        "colab": {
          "base_uri": "https://localhost:8080/"
        },
        "id": "Ho1l08UBAr5Q",
        "outputId": "b62a71b8-f2cb-4921-eb9b-366fd84f9de7"
      },
      "execution_count": 150,
      "outputs": [
        {
          "output_type": "execute_result",
          "data": {
            "text/plain": [
              "tensor(14)"
            ]
          },
          "metadata": {},
          "execution_count": 150
        }
      ]
    },
    {
      "cell_type": "code",
      "source": [
        "#\n",
        "\n",
        "Mul = torch.matmul(torch.randn(2,3), torch.randn(3,2))\n",
        "Mul"
      ],
      "metadata": {
        "colab": {
          "base_uri": "https://localhost:8080/"
        },
        "id": "ohDIKoX_BCTy",
        "outputId": "09150303-5817-40cc-e3b1-3d6c40d2dce9"
      },
      "execution_count": 151,
      "outputs": [
        {
          "output_type": "execute_result",
          "data": {
            "text/plain": [
              "tensor([[ 4.7531, -1.0645],\n",
              "        [ 0.3941,  0.3764]])"
            ]
          },
          "metadata": {},
          "execution_count": 151
        }
      ]
    },
    {
      "cell_type": "code",
      "source": [
        "# Shape for matrix multiplication.\n",
        "tensor_A = torch.tensor([[1,2],\n",
        "                         [3,4],\n",
        "                         [5,6]])\n",
        "tensor_B = torch.tensor([[7,10],\n",
        "                         [8,11],\n",
        "                         [9,12]])\n",
        "torch.mm(tensor_A, tensor_B.T) #torch.mm is the short form of torch.matmul. We get the shape error here."
      ],
      "metadata": {
        "id": "9FEboz0GZl9y",
        "colab": {
          "base_uri": "https://localhost:8080/"
        },
        "outputId": "1749f9f2-8f27-4123-ccf9-a8d3ca1dfa90"
      },
      "execution_count": 152,
      "outputs": [
        {
          "output_type": "execute_result",
          "data": {
            "text/plain": [
              "tensor([[ 27,  30,  33],\n",
              "        [ 61,  68,  75],\n",
              "        [ 95, 106, 117]])"
            ]
          },
          "metadata": {},
          "execution_count": 152
        }
      ]
    },
    {
      "cell_type": "code",
      "source": [
        "# One of the solution is to take the transpose of the tensor.\n",
        "torch.mm (tensor_A.T,tensor_B)\n"
      ],
      "metadata": {
        "colab": {
          "base_uri": "https://localhost:8080/"
        },
        "id": "OMbqKMfb1H4G",
        "outputId": "49eb8fb2-b280-48de-c66d-fe5a3f72d3b3"
      },
      "execution_count": 153,
      "outputs": [
        {
          "output_type": "execute_result",
          "data": {
            "text/plain": [
              "tensor([[ 76, 103],\n",
              "        [100, 136]])"
            ]
          },
          "metadata": {},
          "execution_count": 153
        }
      ]
    },
    {
      "cell_type": "code",
      "source": [
        " tensor_B.T.shape\n"
      ],
      "metadata": {
        "colab": {
          "base_uri": "https://localhost:8080/"
        },
        "id": "UUncoPAW2t-x",
        "outputId": "a0495731-22a3-4c13-9542-540ccd272139"
      },
      "execution_count": 154,
      "outputs": [
        {
          "output_type": "execute_result",
          "data": {
            "text/plain": [
              "torch.Size([2, 3])"
            ]
          },
          "metadata": {},
          "execution_count": 154
        }
      ]
    },
    {
      "cell_type": "markdown",
      "source": [
        "### Finding min, max, mean and sum etc (Tensor Aggregate)"
      ],
      "metadata": {
        "id": "4EUW0dAd47wB"
      }
    },
    {
      "cell_type": "code",
      "source": [
        "# Creating a tensor\n",
        "x = torch.arange(0,100,10)\n",
        "x"
      ],
      "metadata": {
        "colab": {
          "base_uri": "https://localhost:8080/"
        },
        "id": "ocE6OD805HPN",
        "outputId": "ef50d075-801e-4dda-ed01-271b9d6095c6"
      },
      "execution_count": 155,
      "outputs": [
        {
          "output_type": "execute_result",
          "data": {
            "text/plain": [
              "tensor([ 0, 10, 20, 30, 40, 50, 60, 70, 80, 90])"
            ]
          },
          "metadata": {},
          "execution_count": 155
        }
      ]
    },
    {
      "cell_type": "code",
      "source": [
        "# Find the min\n",
        "torch.min(x), torch.max(x)"
      ],
      "metadata": {
        "colab": {
          "base_uri": "https://localhost:8080/"
        },
        "id": "NIHVSFTz6HDO",
        "outputId": "4c372361-42bb-442f-bdad-58fc6ca1ca69"
      },
      "execution_count": 156,
      "outputs": [
        {
          "output_type": "execute_result",
          "data": {
            "text/plain": [
              "(tensor(0), tensor(90))"
            ]
          },
          "metadata": {},
          "execution_count": 156
        }
      ]
    },
    {
      "cell_type": "code",
      "source": [
        "#  Find the mean\n",
        "torch.mean(x.type(torch.float32))"
      ],
      "metadata": {
        "colab": {
          "base_uri": "https://localhost:8080/"
        },
        "id": "xAc9kZk66TsA",
        "outputId": "5a73b867-3645-47f5-a81b-af1ca856735e"
      },
      "execution_count": 157,
      "outputs": [
        {
          "output_type": "execute_result",
          "data": {
            "text/plain": [
              "tensor(45.)"
            ]
          },
          "metadata": {},
          "execution_count": 157
        }
      ]
    },
    {
      "cell_type": "code",
      "source": [
        "# Find the sum. Both are same you can use any of them.\n",
        "torch.sum(x), x.sum()"
      ],
      "metadata": {
        "colab": {
          "base_uri": "https://localhost:8080/"
        },
        "id": "C_V8nCYO6b2T",
        "outputId": "fd389002-0c13-4477-fa4a-01a1ea8f30a3"
      },
      "execution_count": 158,
      "outputs": [
        {
          "output_type": "execute_result",
          "data": {
            "text/plain": [
              "(tensor(450), tensor(450))"
            ]
          },
          "metadata": {},
          "execution_count": 158
        }
      ]
    },
    {
      "cell_type": "markdown",
      "source": [
        "### Finding the positional min and max"
      ],
      "metadata": {
        "id": "0hI0lpncAs2v"
      }
    },
    {
      "cell_type": "code",
      "source": [
        "x = torch.arange(1,100,10)\n",
        "x"
      ],
      "metadata": {
        "colab": {
          "base_uri": "https://localhost:8080/"
        },
        "id": "dJJjIlts8Q3h",
        "outputId": "f917e32c-32c6-4a07-ea17-c1b337a7d3b2"
      },
      "execution_count": 159,
      "outputs": [
        {
          "output_type": "execute_result",
          "data": {
            "text/plain": [
              "tensor([ 1, 11, 21, 31, 41, 51, 61, 71, 81, 91])"
            ]
          },
          "metadata": {},
          "execution_count": 159
        }
      ]
    },
    {
      "cell_type": "code",
      "source": [
        "# Find the position in tensor that has the minimum value with argmin() -> return index position\n",
        "x.argmin()"
      ],
      "metadata": {
        "colab": {
          "base_uri": "https://localhost:8080/"
        },
        "id": "2AvrQMMi8S8E",
        "outputId": "cb51dd93-fe76-4a7f-c74a-709bdc9147e2"
      },
      "execution_count": 160,
      "outputs": [
        {
          "output_type": "execute_result",
          "data": {
            "text/plain": [
              "tensor(0)"
            ]
          },
          "metadata": {},
          "execution_count": 160
        }
      ]
    },
    {
      "cell_type": "code",
      "source": [
        "x.argmax()\n"
      ],
      "metadata": {
        "colab": {
          "base_uri": "https://localhost:8080/"
        },
        "id": "ffOT5YDxBsBD",
        "outputId": "b53ebeab-8af9-4799-f883-e074f46abd2e"
      },
      "execution_count": 161,
      "outputs": [
        {
          "output_type": "execute_result",
          "data": {
            "text/plain": [
              "tensor(9)"
            ]
          },
          "metadata": {},
          "execution_count": 161
        }
      ]
    },
    {
      "cell_type": "code",
      "source": [
        "x[0]"
      ],
      "metadata": {
        "colab": {
          "base_uri": "https://localhost:8080/"
        },
        "id": "QeuVc5eOBI3L",
        "outputId": "7af99ac5-898e-471e-89da-f3af1c7b368e"
      },
      "execution_count": 162,
      "outputs": [
        {
          "output_type": "execute_result",
          "data": {
            "text/plain": [
              "tensor(1)"
            ]
          },
          "metadata": {},
          "execution_count": 162
        }
      ]
    },
    {
      "cell_type": "code",
      "source": [
        "x[9]"
      ],
      "metadata": {
        "colab": {
          "base_uri": "https://localhost:8080/"
        },
        "id": "6JT1yByHBbNz",
        "outputId": "f0d439ab-542b-4bd5-c9b0-eb3e8eba011e"
      },
      "execution_count": 163,
      "outputs": [
        {
          "output_type": "execute_result",
          "data": {
            "text/plain": [
              "tensor(91)"
            ]
          },
          "metadata": {},
          "execution_count": 163
        }
      ]
    },
    {
      "cell_type": "markdown",
      "source": [
        "# Reshaping, stacking, squeezing and unsqueezing tensors.\n",
        "\n",
        "*   Reshape - reshape an input tensor to a defined shape.\n",
        "*   View - Return a view of an input tensor of certain shape but keep the same memory as the original tensor.\n",
        "*   Stacking - combine multiple tensor on top of each other or side by side.\n",
        "*   Squeeze -  remove all `1` dimensions from a tensor.\n",
        "*   Unsqueeze - add a 1 dimension to a target tensor.\n",
        "*   Permute - Return a view of the input with dimension permuted (swapped) in a certain way.\n"
      ],
      "metadata": {
        "id": "hv5wAutrCYFk"
      }
    },
    {
      "cell_type": "code",
      "source": [
        "# Reshape - One more thing that we can only use the same dimensions.\n",
        "x_reshape = x.reshape(1,10)\n",
        "x_reshape"
      ],
      "metadata": {
        "colab": {
          "base_uri": "https://localhost:8080/"
        },
        "id": "ZZPPzpojBcoH",
        "outputId": "05c17f64-76bc-466c-92d7-ed182dc1ad57"
      },
      "execution_count": 164,
      "outputs": [
        {
          "output_type": "execute_result",
          "data": {
            "text/plain": [
              "tensor([[ 1, 11, 21, 31, 41, 51, 61, 71, 81, 91]])"
            ]
          },
          "metadata": {},
          "execution_count": 164
        }
      ]
    },
    {
      "cell_type": "code",
      "source": [
        "# Change the view.\n",
        "z = x.view(1,10)\n",
        "z"
      ],
      "metadata": {
        "colab": {
          "base_uri": "https://localhost:8080/"
        },
        "id": "1C7v-BpKCSy0",
        "outputId": "415af20e-86fd-439e-b93c-0cd1c7abcc9a"
      },
      "execution_count": 165,
      "outputs": [
        {
          "output_type": "execute_result",
          "data": {
            "text/plain": [
              "tensor([[ 1, 11, 21, 31, 41, 51, 61, 71, 81, 91]])"
            ]
          },
          "metadata": {},
          "execution_count": 165
        }
      ]
    },
    {
      "cell_type": "code",
      "source": [
        "# Changing z changes x (because a view of a tensor shares the same memory as the original).\n",
        "z[: , 0] = 34\n",
        "x,z"
      ],
      "metadata": {
        "colab": {
          "base_uri": "https://localhost:8080/"
        },
        "id": "eoTLxIO2k6y_",
        "outputId": "539d94d3-4f3b-4a3d-a17e-27e3f9ed4811"
      },
      "execution_count": 166,
      "outputs": [
        {
          "output_type": "execute_result",
          "data": {
            "text/plain": [
              "(tensor([34, 11, 21, 31, 41, 51, 61, 71, 81, 91]),\n",
              " tensor([[34, 11, 21, 31, 41, 51, 61, 71, 81, 91]]))"
            ]
          },
          "metadata": {},
          "execution_count": 166
        }
      ]
    },
    {
      "cell_type": "code",
      "source": [
        "# Stack tensors on top of each other.\n",
        "x_stacked = torch.stack([x,x,x], dim=1)\n",
        "x_stacked"
      ],
      "metadata": {
        "colab": {
          "base_uri": "https://localhost:8080/"
        },
        "id": "Bc2Kj8kem_Df",
        "outputId": "dea0e2b1-e6f1-4e9b-e1fb-7c8e8a86f34d"
      },
      "execution_count": 167,
      "outputs": [
        {
          "output_type": "execute_result",
          "data": {
            "text/plain": [
              "tensor([[34, 34, 34],\n",
              "        [11, 11, 11],\n",
              "        [21, 21, 21],\n",
              "        [31, 31, 31],\n",
              "        [41, 41, 41],\n",
              "        [51, 51, 51],\n",
              "        [61, 61, 61],\n",
              "        [71, 71, 71],\n",
              "        [81, 81, 81],\n",
              "        [91, 91, 91]])"
            ]
          },
          "metadata": {},
          "execution_count": 167
        }
      ]
    },
    {
      "cell_type": "code",
      "source": [
        "# Squeeze - Remove all the single dimension from a target tensor. See we remove the 1 from the tensor.\n",
        "x_squeeze = x_reshape.squeeze()\n",
        "x_squeeze\n",
        "x_squeeze.shape"
      ],
      "metadata": {
        "colab": {
          "base_uri": "https://localhost:8080/"
        },
        "id": "OV2wIWxfnPF0",
        "outputId": "cf77438f-0fd1-4afa-a8bd-dfbe41dc1430"
      },
      "execution_count": 168,
      "outputs": [
        {
          "output_type": "execute_result",
          "data": {
            "text/plain": [
              "torch.Size([10])"
            ]
          },
          "metadata": {},
          "execution_count": 168
        }
      ]
    },
    {
      "cell_type": "code",
      "source": [
        "#Unsqueez - Add a single dimension to a target tensor at a specific dim (dimension).\n",
        "print(f\"Previous tensor: {x_squeeze}\")\n",
        "print(f\"Previous shape: {x_squeeze.shape}\")\n",
        "\n",
        "# Add an extra dimension with unsqueeze\n",
        "x_unsqueezed = x_squeeze.unsqueeze(dim=0)\n",
        "print(f\"\\nNew tensor: {x_unsqueezed}\")\n",
        "print(f\"New shape: {x_unsqueezed.shape}\")"
      ],
      "metadata": {
        "colab": {
          "base_uri": "https://localhost:8080/"
        },
        "id": "JpogGffyqmk7",
        "outputId": "a4a6e173-abe4-4489-f126-73e66d0aa91d"
      },
      "execution_count": 169,
      "outputs": [
        {
          "output_type": "stream",
          "name": "stdout",
          "text": [
            "Previous tensor: tensor([34, 11, 21, 31, 41, 51, 61, 71, 81, 91])\n",
            "Previous shape: torch.Size([10])\n",
            "\n",
            "New tensor: tensor([[34, 11, 21, 31, 41, 51, 61, 71, 81, 91]])\n",
            "New shape: torch.Size([1, 10])\n"
          ]
        }
      ]
    },
    {
      "cell_type": "code",
      "source": [
        "# torch.permute - rearranges the dimensions of a target tensor in a specified order.\n",
        "x_original = torch.rand(size=(22,34,5)) #[Height, width, colour_channel]\n",
        "x_permute = x_original.permute(2,0,1)\n",
        "print(f\"Pervious shape: {x_original.shape}\")\n",
        "print(f\"New shape: {x_permute.shape}\")\n"
      ],
      "metadata": {
        "colab": {
          "base_uri": "https://localhost:8080/"
        },
        "id": "HhHCw0Hzsvtc",
        "outputId": "65b41c41-66fd-40c2-ec8e-d7ca1665c196"
      },
      "execution_count": 170,
      "outputs": [
        {
          "output_type": "stream",
          "name": "stdout",
          "text": [
            "Pervious shape: torch.Size([22, 34, 5])\n",
            "New shape: torch.Size([5, 22, 34])\n"
          ]
        }
      ]
    },
    {
      "cell_type": "markdown",
      "source": [
        "##Indexing (selecting data from tensors)\n",
        "Index with pytorch is similar to indexing with Numpy."
      ],
      "metadata": {
        "id": "upsimwAUy6Mg"
      }
    },
    {
      "cell_type": "code",
      "source": [
        "# Create a tensor.\n",
        "import torch\n",
        "x = torch.arange(1,10).reshape(1,3,3)\n",
        "x, x.shape\n"
      ],
      "metadata": {
        "colab": {
          "base_uri": "https://localhost:8080/"
        },
        "id": "LtxRO99JwWUu",
        "outputId": "2f1e8651-1fde-4db9-aade-85a6ff6638b4"
      },
      "execution_count": 171,
      "outputs": [
        {
          "output_type": "execute_result",
          "data": {
            "text/plain": [
              "(tensor([[[1, 2, 3],\n",
              "          [4, 5, 6],\n",
              "          [7, 8, 9]]]),\n",
              " torch.Size([1, 3, 3]))"
            ]
          },
          "metadata": {},
          "execution_count": 171
        }
      ]
    },
    {
      "cell_type": "code",
      "source": [
        "# Getting the elements from the tensors.\n",
        "x[0]"
      ],
      "metadata": {
        "colab": {
          "base_uri": "https://localhost:8080/"
        },
        "id": "xX_TvAPa0Fbr",
        "outputId": "42742edc-d940-47d0-ff8c-fc049641ce08"
      },
      "execution_count": 172,
      "outputs": [
        {
          "output_type": "execute_result",
          "data": {
            "text/plain": [
              "tensor([[1, 2, 3],\n",
              "        [4, 5, 6],\n",
              "        [7, 8, 9]])"
            ]
          },
          "metadata": {},
          "execution_count": 172
        }
      ]
    },
    {
      "cell_type": "code",
      "source": [
        "x[0,0]"
      ],
      "metadata": {
        "colab": {
          "base_uri": "https://localhost:8080/"
        },
        "id": "UyTMgKT00aT7",
        "outputId": "21c5f94f-e4f6-4a05-9b6a-a85599dd784c"
      },
      "execution_count": 173,
      "outputs": [
        {
          "output_type": "execute_result",
          "data": {
            "text/plain": [
              "tensor([1, 2, 3])"
            ]
          },
          "metadata": {},
          "execution_count": 173
        }
      ]
    },
    {
      "cell_type": "code",
      "source": [
        "x[0][1][2]  #Upper cell and this using different format. You can use any of these."
      ],
      "metadata": {
        "colab": {
          "base_uri": "https://localhost:8080/"
        },
        "id": "BlY2lye30eAi",
        "outputId": "33f2a871-4f3c-42d8-e226-d8bcd56b9177"
      },
      "execution_count": 174,
      "outputs": [
        {
          "output_type": "execute_result",
          "data": {
            "text/plain": [
              "tensor(6)"
            ]
          },
          "metadata": {},
          "execution_count": 174
        }
      ]
    },
    {
      "cell_type": "code",
      "source": [
        "# You can also use the \":\" to select \"all\" of a target dimension.\n",
        "x[:,0]"
      ],
      "metadata": {
        "colab": {
          "base_uri": "https://localhost:8080/"
        },
        "id": "An1GYx5B0hYk",
        "outputId": "3cb96db1-eb52-45c2-a916-02986e0118f0"
      },
      "execution_count": 175,
      "outputs": [
        {
          "output_type": "execute_result",
          "data": {
            "text/plain": [
              "tensor([[1, 2, 3]])"
            ]
          },
          "metadata": {},
          "execution_count": 175
        }
      ]
    },
    {
      "cell_type": "code",
      "source": [
        "# Get all values of 0th and 1st dimensions but only index 1 of 2nd dimension.\n",
        "x[:,:,1]"
      ],
      "metadata": {
        "colab": {
          "base_uri": "https://localhost:8080/"
        },
        "id": "t5xzfPol1RFr",
        "outputId": "0c7a2314-6f0d-4da2-96f1-120fb54a3187"
      },
      "execution_count": 176,
      "outputs": [
        {
          "output_type": "execute_result",
          "data": {
            "text/plain": [
              "tensor([[2, 5, 8]])"
            ]
          },
          "metadata": {},
          "execution_count": 176
        }
      ]
    },
    {
      "cell_type": "code",
      "source": [
        "# Assignment\n",
        "x[:,:,2]  # Return 3,6,9\n",
        "x[:,2,2] # Return 9."
      ],
      "metadata": {
        "colab": {
          "base_uri": "https://localhost:8080/"
        },
        "id": "cawO4Q8T1w4k",
        "outputId": "ace09b45-dcad-4c89-da89-a25dccd1d276"
      },
      "execution_count": 177,
      "outputs": [
        {
          "output_type": "execute_result",
          "data": {
            "text/plain": [
              "tensor([9])"
            ]
          },
          "metadata": {},
          "execution_count": 177
        }
      ]
    },
    {
      "cell_type": "markdown",
      "source": [
        "## PyTorch tensors & Numpy\n",
        "\n",
        "NumPy is a popular scientific Python numerical computing library.\n",
        "And because of this, PyTorch has functionality to interact with it.\n",
        "\n",
        "\n",
        "*   Data in NumPy , want in PyTorch tensor -> torch.from_numpy(ndarray).\n",
        "*   PyTorch tensor -> NumPy -> torch.Tensor.numpy().\n",
        "\n"
      ],
      "metadata": {
        "id": "MMsKqoUt74CE"
      }
    },
    {
      "cell_type": "code",
      "source": [
        "import torch\n",
        "import numpy as np\n",
        "\n",
        "array = np.arange(1.0, 8.0)\n",
        "tensor = torch.from_numpy(array) # Warning: When converting from numpy -> pytorch, pytorch reflects numpy's default datatype of float64 unless specified otherwise\n",
        "array.dtype, tensor.dtype\n",
        "\n"
      ],
      "metadata": {
        "colab": {
          "base_uri": "https://localhost:8080/"
        },
        "id": "blff3-lI2brE",
        "outputId": "6f87e77a-c3b9-40be-aa08-5537a52e027d"
      },
      "execution_count": 182,
      "outputs": [
        {
          "output_type": "execute_result",
          "data": {
            "text/plain": [
              "(dtype('float64'), torch.float64)"
            ]
          },
          "metadata": {},
          "execution_count": 182
        }
      ]
    },
    {
      "cell_type": "markdown",
      "source": [],
      "metadata": {
        "id": "XDsadCtbxuCI"
      }
    },
    {
      "cell_type": "code",
      "source": [
        "  import torch\n",
        "\n",
        "  # Set a random seed.\n",
        "  RANDOM_SEED = 42\n",
        "  torch.manual_seed(RANDOM_SEED)\n",
        "  random_tensor_C = torch.rand(3,4)\n",
        "  torch.manual_seed(RANDOM_SEED)\n",
        "  random_tensor_D = torch.rand(3,4)\n",
        "  print(random_tensor_C)\n",
        "  print(random_tensor_D)\n",
        "  print(random_tensor_C == random_tensor_D)\n"
      ],
      "metadata": {
        "colab": {
          "base_uri": "https://localhost:8080/"
        },
        "id": "uK7ibcfREERk",
        "outputId": "67940eef-515b-43d5-d4bc-c422276adbb3"
      },
      "execution_count": 184,
      "outputs": [
        {
          "output_type": "stream",
          "name": "stdout",
          "text": [
            "tensor([[0.8823, 0.9150, 0.3829, 0.9593],\n",
            "        [0.3904, 0.6009, 0.2566, 0.7936],\n",
            "        [0.9408, 0.1332, 0.9346, 0.5936]])\n",
            "tensor([[0.8823, 0.9150, 0.3829, 0.9593],\n",
            "        [0.3904, 0.6009, 0.2566, 0.7936],\n",
            "        [0.9408, 0.1332, 0.9346, 0.5936]])\n",
            "tensor([[True, True, True, True],\n",
            "        [True, True, True, True],\n",
            "        [True, True, True, True]])\n"
          ]
        }
      ]
    },
    {
      "cell_type": "code",
      "source": [],
      "metadata": {
        "id": "Z_uH5fll4Huw"
      },
      "execution_count": null,
      "outputs": []
    }
  ]
}